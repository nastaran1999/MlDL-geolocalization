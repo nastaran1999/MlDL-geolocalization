{
  "nbformat": 4,
  "nbformat_minor": 0,
  "metadata": {
    "colab": {
      "provenance": []
    },
    "kernelspec": {
      "name": "python3",
      "display_name": "Python 3"
    },
    "language_info": {
      "name": "python"
    }
  },
  "cells": [
    {
      "cell_type": "code",
      "execution_count": null,
      "metadata": {
        "id": "IrgGXm-_BcsM"
      },
      "outputs": [],
      "source": [
        "import cv2\n",
        "import numpy as np\n",
        "from PIL import Image, ImageFilter\n",
        "import random\n",
        "\n",
        "def transform_to_night(image_path):\n",
        "    # Load the image using OpenCV\n",
        "    image = cv2.imread(image_path)\n",
        "\n",
        "    # Adjust brightness and contrast\n",
        "    image = cv2.convertScaleAbs(image, alpha=0.7, beta=30)\n",
        "\n",
        "    # Modify color balance\n",
        "    image = cv2.cvtColor(image, cv2.COLOR_BGR2RGB)\n",
        "    image = Image.fromarray(image)\n",
        "\n",
        "    # Convert image to NumPy array\n",
        "    image_array = np.array(image)\n",
        "\n",
        "    # Apply transformations using NumPy operations\n",
        "    image_array = (image_array * 0.7).astype(np.uint8)\n",
        "\n",
        "    # Convert back to PIL image\n",
        "    image = Image.fromarray(image_array)\n",
        "\n",
        "    # Add noise and grain\n",
        "    image = image.convert(\"RGB\")\n",
        "    image = image.filter(ImageFilter.GaussianBlur(radius=1))\n",
        "    image = add_noise(image)\n",
        "\n",
        "    # Darken shadows\n",
        "    image_array = np.array(image)\n",
        "    image_array = (image_array * 0.8).astype(np.uint8)\n",
        "    image = Image.fromarray(image_array)\n",
        "\n",
        "    # Save the transformed image\n",
        "    image.save(image_path)\n",
        "    print(f\"Night-time transformed image saved as {image_path}.\")\n",
        "\n",
        "def add_noise(image):\n",
        "    # Add noise to the image\n",
        "    width, height = image.size\n",
        "    pixels = image.load()\n",
        "\n",
        "    for y in range(height):\n",
        "        for x in range(width):\n",
        "            r, g, b = pixels[x, y]\n",
        "            noise = random.randint(-30, 30)\n",
        "            pixels[x, y] = (max(0, min(r + noise, 255)),\n",
        "                            max(0, min(g + noise, 255)),\n",
        "                            max(0, min(b + noise, 255)))\n",
        "\n",
        "    return image"
      ]
    },
    {
      "cell_type": "code",
      "source": [
        "import os\n",
        "import random\n",
        "\n",
        "def transform_images(directory):\n",
        "    for root, dirs, files in os.walk(directory):\n",
        "        for file in files:\n",
        "            # Check if the file is an image\n",
        "            if file.endswith(\".jpg\") or file.endswith(\".jpeg\") or file.endswith(\".png\"):\n",
        "                # Get the full path to the image\n",
        "                image_path = os.path.join(root, file)\n",
        "\n",
        "                # Randomly decide whether to transform the image or not\n",
        "                if random.random() < 0.5:\n",
        "                    # Apply the transformation and save the image\n",
        "                    transform_to_night(image_path)\n",
        "\n",
        "# Usage example\n",
        "transform_images(\"./sf_xs\")"
      ],
      "metadata": {
        "id": "BkMi4yHhBi5d"
      },
      "execution_count": null,
      "outputs": []
    }
  ]
}